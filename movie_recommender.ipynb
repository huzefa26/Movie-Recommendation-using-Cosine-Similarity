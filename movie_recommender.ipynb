{
 "cells": [
  {
   "cell_type": "code",
   "execution_count": 1,
   "metadata": {},
   "outputs": [],
   "source": [
    "import pandas as pd\n",
    "import numpy as np\n",
    "from sklearn.metrics.pairwise import cosine_similarity\n",
    "from sklearn.feature_extraction.text import CountVectorizer"
   ]
  },
  {
   "cell_type": "markdown",
   "metadata": {},
   "source": [
    "Using the IMDB dataset of 250 most rated movies."
   ]
  },
  {
   "cell_type": "code",
   "execution_count": 21,
   "metadata": {},
   "outputs": [],
   "source": [
    "df = pd.read_csv('https://query.data.world/s/uikepcpffyo2nhig52xxeevdialfl7')"
   ]
  },
  {
   "cell_type": "code",
   "execution_count": 6,
   "metadata": {},
   "outputs": [
    {
     "data": {
      "text/html": [
       "<div>\n",
       "<style scoped>\n",
       "    .dataframe tbody tr th:only-of-type {\n",
       "        vertical-align: middle;\n",
       "    }\n",
       "\n",
       "    .dataframe tbody tr th {\n",
       "        vertical-align: top;\n",
       "    }\n",
       "\n",
       "    .dataframe thead th {\n",
       "        text-align: right;\n",
       "    }\n",
       "</style>\n",
       "<table border=\"1\" class=\"dataframe\">\n",
       "  <thead>\n",
       "    <tr style=\"text-align: right;\">\n",
       "      <th></th>\n",
       "      <th>Unnamed: 0</th>\n",
       "      <th>Title</th>\n",
       "      <th>Year</th>\n",
       "      <th>Rated</th>\n",
       "      <th>Released</th>\n",
       "      <th>Runtime</th>\n",
       "      <th>Genre</th>\n",
       "      <th>Director</th>\n",
       "      <th>Writer</th>\n",
       "      <th>Actors</th>\n",
       "      <th>...</th>\n",
       "      <th>tomatoConsensus</th>\n",
       "      <th>tomatoUserMeter</th>\n",
       "      <th>tomatoUserRating</th>\n",
       "      <th>tomatoUserReviews</th>\n",
       "      <th>tomatoURL</th>\n",
       "      <th>DVD</th>\n",
       "      <th>BoxOffice</th>\n",
       "      <th>Production</th>\n",
       "      <th>Website</th>\n",
       "      <th>Response</th>\n",
       "    </tr>\n",
       "  </thead>\n",
       "  <tbody>\n",
       "    <tr>\n",
       "      <th>0</th>\n",
       "      <td>1</td>\n",
       "      <td>The Shawshank Redemption</td>\n",
       "      <td>1994</td>\n",
       "      <td>R</td>\n",
       "      <td>14 Oct 1994</td>\n",
       "      <td>142 min</td>\n",
       "      <td>Crime, Drama</td>\n",
       "      <td>Frank Darabont</td>\n",
       "      <td>Stephen King (short story \"Rita Hayworth and S...</td>\n",
       "      <td>Tim Robbins, Morgan Freeman, Bob Gunton, Willi...</td>\n",
       "      <td>...</td>\n",
       "      <td>NaN</td>\n",
       "      <td>NaN</td>\n",
       "      <td>NaN</td>\n",
       "      <td>NaN</td>\n",
       "      <td>http://www.rottentomatoes.com/m/shawshank_rede...</td>\n",
       "      <td>27 Jan 1998</td>\n",
       "      <td>NaN</td>\n",
       "      <td>Columbia Pictures</td>\n",
       "      <td>NaN</td>\n",
       "      <td>True</td>\n",
       "    </tr>\n",
       "    <tr>\n",
       "      <th>1</th>\n",
       "      <td>2</td>\n",
       "      <td>The Godfather</td>\n",
       "      <td>1972</td>\n",
       "      <td>R</td>\n",
       "      <td>24 Mar 1972</td>\n",
       "      <td>175 min</td>\n",
       "      <td>Crime, Drama</td>\n",
       "      <td>Francis Ford Coppola</td>\n",
       "      <td>Mario Puzo (screenplay), Francis Ford Coppola ...</td>\n",
       "      <td>Marlon Brando, Al Pacino, James Caan, Richard ...</td>\n",
       "      <td>...</td>\n",
       "      <td>NaN</td>\n",
       "      <td>NaN</td>\n",
       "      <td>NaN</td>\n",
       "      <td>NaN</td>\n",
       "      <td>http://www.rottentomatoes.com/m/godfather/</td>\n",
       "      <td>09 Oct 2001</td>\n",
       "      <td>NaN</td>\n",
       "      <td>Paramount Pictures</td>\n",
       "      <td>http://www.thegodfather.com</td>\n",
       "      <td>True</td>\n",
       "    </tr>\n",
       "    <tr>\n",
       "      <th>2</th>\n",
       "      <td>3</td>\n",
       "      <td>The Godfather: Part II</td>\n",
       "      <td>1974</td>\n",
       "      <td>R</td>\n",
       "      <td>20 Dec 1974</td>\n",
       "      <td>202 min</td>\n",
       "      <td>Crime, Drama</td>\n",
       "      <td>Francis Ford Coppola</td>\n",
       "      <td>Francis Ford Coppola (screenplay), Mario Puzo ...</td>\n",
       "      <td>Al Pacino, Robert Duvall, Diane Keaton, Robert...</td>\n",
       "      <td>...</td>\n",
       "      <td>NaN</td>\n",
       "      <td>NaN</td>\n",
       "      <td>NaN</td>\n",
       "      <td>NaN</td>\n",
       "      <td>http://www.rottentomatoes.com/m/godfather_part...</td>\n",
       "      <td>24 May 2005</td>\n",
       "      <td>NaN</td>\n",
       "      <td>Paramount Pictures</td>\n",
       "      <td>http://www.thegodfather.com/</td>\n",
       "      <td>True</td>\n",
       "    </tr>\n",
       "    <tr>\n",
       "      <th>3</th>\n",
       "      <td>4</td>\n",
       "      <td>The Dark Knight</td>\n",
       "      <td>2008</td>\n",
       "      <td>PG-13</td>\n",
       "      <td>18 Jul 2008</td>\n",
       "      <td>152 min</td>\n",
       "      <td>Action, Crime, Drama</td>\n",
       "      <td>Christopher Nolan</td>\n",
       "      <td>Jonathan Nolan (screenplay), Christopher Nolan...</td>\n",
       "      <td>Christian Bale, Heath Ledger, Aaron Eckhart, M...</td>\n",
       "      <td>...</td>\n",
       "      <td>NaN</td>\n",
       "      <td>NaN</td>\n",
       "      <td>NaN</td>\n",
       "      <td>NaN</td>\n",
       "      <td>http://www.rottentomatoes.com/m/the_dark_knight/</td>\n",
       "      <td>09 Dec 2008</td>\n",
       "      <td>$533,316,061</td>\n",
       "      <td>Warner Bros. Pictures/Legendary</td>\n",
       "      <td>http://thedarkknight.warnerbros.com/</td>\n",
       "      <td>True</td>\n",
       "    </tr>\n",
       "    <tr>\n",
       "      <th>4</th>\n",
       "      <td>5</td>\n",
       "      <td>12 Angry Men</td>\n",
       "      <td>1957</td>\n",
       "      <td>APPROVED</td>\n",
       "      <td>01 Apr 1957</td>\n",
       "      <td>96 min</td>\n",
       "      <td>Crime, Drama</td>\n",
       "      <td>Sidney Lumet</td>\n",
       "      <td>Reginald Rose (story), Reginald Rose (screenplay)</td>\n",
       "      <td>Martin Balsam, John Fiedler, Lee J. Cobb, E.G....</td>\n",
       "      <td>...</td>\n",
       "      <td>NaN</td>\n",
       "      <td>NaN</td>\n",
       "      <td>NaN</td>\n",
       "      <td>NaN</td>\n",
       "      <td>http://www.rottentomatoes.com/m/1000013-12_ang...</td>\n",
       "      <td>06 Mar 2001</td>\n",
       "      <td>NaN</td>\n",
       "      <td>Criterion Collection</td>\n",
       "      <td>http://www.criterion.com/films/27871-12-angry-men</td>\n",
       "      <td>True</td>\n",
       "    </tr>\n",
       "  </tbody>\n",
       "</table>\n",
       "<p>5 rows × 38 columns</p>\n",
       "</div>"
      ],
      "text/plain": [
       "   Unnamed: 0                     Title  Year     Rated     Released  Runtime  \\\n",
       "0           1  The Shawshank Redemption  1994         R  14 Oct 1994  142 min   \n",
       "1           2             The Godfather  1972         R  24 Mar 1972  175 min   \n",
       "2           3    The Godfather: Part II  1974         R  20 Dec 1974  202 min   \n",
       "3           4           The Dark Knight  2008     PG-13  18 Jul 2008  152 min   \n",
       "4           5              12 Angry Men  1957  APPROVED  01 Apr 1957   96 min   \n",
       "\n",
       "                  Genre              Director  \\\n",
       "0          Crime, Drama        Frank Darabont   \n",
       "1          Crime, Drama  Francis Ford Coppola   \n",
       "2          Crime, Drama  Francis Ford Coppola   \n",
       "3  Action, Crime, Drama     Christopher Nolan   \n",
       "4          Crime, Drama          Sidney Lumet   \n",
       "\n",
       "                                              Writer  \\\n",
       "0  Stephen King (short story \"Rita Hayworth and S...   \n",
       "1  Mario Puzo (screenplay), Francis Ford Coppola ...   \n",
       "2  Francis Ford Coppola (screenplay), Mario Puzo ...   \n",
       "3  Jonathan Nolan (screenplay), Christopher Nolan...   \n",
       "4  Reginald Rose (story), Reginald Rose (screenplay)   \n",
       "\n",
       "                                              Actors   ...    tomatoConsensus  \\\n",
       "0  Tim Robbins, Morgan Freeman, Bob Gunton, Willi...   ...                NaN   \n",
       "1  Marlon Brando, Al Pacino, James Caan, Richard ...   ...                NaN   \n",
       "2  Al Pacino, Robert Duvall, Diane Keaton, Robert...   ...                NaN   \n",
       "3  Christian Bale, Heath Ledger, Aaron Eckhart, M...   ...                NaN   \n",
       "4  Martin Balsam, John Fiedler, Lee J. Cobb, E.G....   ...                NaN   \n",
       "\n",
       "  tomatoUserMeter tomatoUserRating tomatoUserReviews  \\\n",
       "0             NaN              NaN               NaN   \n",
       "1             NaN              NaN               NaN   \n",
       "2             NaN              NaN               NaN   \n",
       "3             NaN              NaN               NaN   \n",
       "4             NaN              NaN               NaN   \n",
       "\n",
       "                                           tomatoURL          DVD  \\\n",
       "0  http://www.rottentomatoes.com/m/shawshank_rede...  27 Jan 1998   \n",
       "1         http://www.rottentomatoes.com/m/godfather/  09 Oct 2001   \n",
       "2  http://www.rottentomatoes.com/m/godfather_part...  24 May 2005   \n",
       "3   http://www.rottentomatoes.com/m/the_dark_knight/  09 Dec 2008   \n",
       "4  http://www.rottentomatoes.com/m/1000013-12_ang...  06 Mar 2001   \n",
       "\n",
       "      BoxOffice                       Production  \\\n",
       "0           NaN                Columbia Pictures   \n",
       "1           NaN               Paramount Pictures   \n",
       "2           NaN               Paramount Pictures   \n",
       "3  $533,316,061  Warner Bros. Pictures/Legendary   \n",
       "4           NaN             Criterion Collection   \n",
       "\n",
       "                                             Website Response  \n",
       "0                                                NaN     True  \n",
       "1                        http://www.thegodfather.com     True  \n",
       "2                       http://www.thegodfather.com/     True  \n",
       "3               http://thedarkknight.warnerbros.com/     True  \n",
       "4  http://www.criterion.com/films/27871-12-angry-men     True  \n",
       "\n",
       "[5 rows x 38 columns]"
      ]
     },
     "execution_count": 6,
     "metadata": {},
     "output_type": "execute_result"
    }
   ],
   "source": [
    "df.head()"
   ]
  },
  {
   "cell_type": "code",
   "execution_count": 4,
   "metadata": {},
   "outputs": [
    {
     "data": {
      "text/plain": [
       "Index(['Unnamed: 0', 'Title', 'Year', 'Rated', 'Released', 'Runtime', 'Genre',\n",
       "       'Director', 'Writer', 'Actors', 'Plot', 'Language', 'Country', 'Awards',\n",
       "       'Poster', 'Ratings.Source', 'Ratings.Value', 'Metascore', 'imdbRating',\n",
       "       'imdbVotes', 'imdbID', 'Type', 'tomatoMeter', 'tomatoImage',\n",
       "       'tomatoRating', 'tomatoReviews', 'tomatoFresh', 'tomatoRotten',\n",
       "       'tomatoConsensus', 'tomatoUserMeter', 'tomatoUserRating',\n",
       "       'tomatoUserReviews', 'tomatoURL', 'DVD', 'BoxOffice', 'Production',\n",
       "       'Website', 'Response'],\n",
       "      dtype='object')"
      ]
     },
     "execution_count": 4,
     "metadata": {},
     "output_type": "execute_result"
    }
   ],
   "source": [
    "df.columns"
   ]
  },
  {
   "cell_type": "code",
   "execution_count": 22,
   "metadata": {},
   "outputs": [
    {
     "data": {
      "text/html": [
       "<div>\n",
       "<style scoped>\n",
       "    .dataframe tbody tr th:only-of-type {\n",
       "        vertical-align: middle;\n",
       "    }\n",
       "\n",
       "    .dataframe tbody tr th {\n",
       "        vertical-align: top;\n",
       "    }\n",
       "\n",
       "    .dataframe thead th {\n",
       "        text-align: right;\n",
       "    }\n",
       "</style>\n",
       "<table border=\"1\" class=\"dataframe\">\n",
       "  <thead>\n",
       "    <tr style=\"text-align: right;\">\n",
       "      <th></th>\n",
       "      <th>Title</th>\n",
       "      <th>Year</th>\n",
       "      <th>Genre</th>\n",
       "      <th>Director</th>\n",
       "      <th>Actors</th>\n",
       "      <th>Plot</th>\n",
       "      <th>Language</th>\n",
       "      <th>Country</th>\n",
       "      <th>imdbRating</th>\n",
       "    </tr>\n",
       "  </thead>\n",
       "  <tbody>\n",
       "    <tr>\n",
       "      <th>0</th>\n",
       "      <td>The Shawshank Redemption</td>\n",
       "      <td>1994</td>\n",
       "      <td>Crime, Drama</td>\n",
       "      <td>Frank Darabont</td>\n",
       "      <td>Tim Robbins, Morgan Freeman, Bob Gunton, Willi...</td>\n",
       "      <td>Two imprisoned men bond over a number of years...</td>\n",
       "      <td>English</td>\n",
       "      <td>USA</td>\n",
       "      <td>9.3</td>\n",
       "    </tr>\n",
       "    <tr>\n",
       "      <th>1</th>\n",
       "      <td>The Godfather</td>\n",
       "      <td>1972</td>\n",
       "      <td>Crime, Drama</td>\n",
       "      <td>Francis Ford Coppola</td>\n",
       "      <td>Marlon Brando, Al Pacino, James Caan, Richard ...</td>\n",
       "      <td>The aging patriarch of an organized crime dyna...</td>\n",
       "      <td>English, Italian, Latin</td>\n",
       "      <td>USA</td>\n",
       "      <td>9.2</td>\n",
       "    </tr>\n",
       "    <tr>\n",
       "      <th>2</th>\n",
       "      <td>The Godfather: Part II</td>\n",
       "      <td>1974</td>\n",
       "      <td>Crime, Drama</td>\n",
       "      <td>Francis Ford Coppola</td>\n",
       "      <td>Al Pacino, Robert Duvall, Diane Keaton, Robert...</td>\n",
       "      <td>The early life and career of Vito Corleone in ...</td>\n",
       "      <td>English, Italian, Spanish, Latin, Sicilian</td>\n",
       "      <td>USA</td>\n",
       "      <td>9.0</td>\n",
       "    </tr>\n",
       "    <tr>\n",
       "      <th>3</th>\n",
       "      <td>The Dark Knight</td>\n",
       "      <td>2008</td>\n",
       "      <td>Action, Crime, Drama</td>\n",
       "      <td>Christopher Nolan</td>\n",
       "      <td>Christian Bale, Heath Ledger, Aaron Eckhart, M...</td>\n",
       "      <td>When the menace known as the Joker emerges fro...</td>\n",
       "      <td>English, Mandarin</td>\n",
       "      <td>USA, UK</td>\n",
       "      <td>9.0</td>\n",
       "    </tr>\n",
       "    <tr>\n",
       "      <th>4</th>\n",
       "      <td>12 Angry Men</td>\n",
       "      <td>1957</td>\n",
       "      <td>Crime, Drama</td>\n",
       "      <td>Sidney Lumet</td>\n",
       "      <td>Martin Balsam, John Fiedler, Lee J. Cobb, E.G....</td>\n",
       "      <td>A jury holdout attempts to prevent a miscarria...</td>\n",
       "      <td>English</td>\n",
       "      <td>USA</td>\n",
       "      <td>8.9</td>\n",
       "    </tr>\n",
       "  </tbody>\n",
       "</table>\n",
       "</div>"
      ],
      "text/plain": [
       "                      Title  Year                 Genre              Director  \\\n",
       "0  The Shawshank Redemption  1994          Crime, Drama        Frank Darabont   \n",
       "1             The Godfather  1972          Crime, Drama  Francis Ford Coppola   \n",
       "2    The Godfather: Part II  1974          Crime, Drama  Francis Ford Coppola   \n",
       "3           The Dark Knight  2008  Action, Crime, Drama     Christopher Nolan   \n",
       "4              12 Angry Men  1957          Crime, Drama          Sidney Lumet   \n",
       "\n",
       "                                              Actors  \\\n",
       "0  Tim Robbins, Morgan Freeman, Bob Gunton, Willi...   \n",
       "1  Marlon Brando, Al Pacino, James Caan, Richard ...   \n",
       "2  Al Pacino, Robert Duvall, Diane Keaton, Robert...   \n",
       "3  Christian Bale, Heath Ledger, Aaron Eckhart, M...   \n",
       "4  Martin Balsam, John Fiedler, Lee J. Cobb, E.G....   \n",
       "\n",
       "                                                Plot  \\\n",
       "0  Two imprisoned men bond over a number of years...   \n",
       "1  The aging patriarch of an organized crime dyna...   \n",
       "2  The early life and career of Vito Corleone in ...   \n",
       "3  When the menace known as the Joker emerges fro...   \n",
       "4  A jury holdout attempts to prevent a miscarria...   \n",
       "\n",
       "                                     Language  Country  imdbRating  \n",
       "0                                     English      USA         9.3  \n",
       "1                     English, Italian, Latin      USA         9.2  \n",
       "2  English, Italian, Spanish, Latin, Sicilian      USA         9.0  \n",
       "3                           English, Mandarin  USA, UK         9.0  \n",
       "4                                     English      USA         8.9  "
      ]
     },
     "execution_count": 22,
     "metadata": {},
     "output_type": "execute_result"
    }
   ],
   "source": [
    "df = df[['Title', 'Year','Genre','Director','Actors','Plot', 'Language', 'Country', 'imdbRating']]\n",
    "df.head()"
   ]
  },
  {
   "cell_type": "code",
   "execution_count": 23,
   "metadata": {},
   "outputs": [],
   "source": [
    "df = df[['Title', 'Year','Genre','Director','Actors','Plot']]"
   ]
  },
  {
   "cell_type": "code",
   "execution_count": 11,
   "metadata": {},
   "outputs": [
    {
     "name": "stdout",
     "output_type": "stream",
     "text": [
      "Collecting rake_nltk\n",
      "  Downloading https://files.pythonhosted.org/packages/8e/c4/b4ff57e541ac5624ad4b20b89c2bafd4e98f29fd83139f3a81858bdb3815/rake_nltk-1.0.4.tar.gz\n",
      "Requirement already satisfied: nltk in c:\\users\\huzef\\anaconda2\\envs\\chatbot\\lib\\site-packages (from rake_nltk) (3.3)\n",
      "Requirement already satisfied: six in c:\\users\\huzef\\anaconda2\\envs\\chatbot\\lib\\site-packages (from nltk->rake_nltk) (1.11.0)\n",
      "Building wheels for collected packages: rake-nltk\n",
      "  Building wheel for rake-nltk (setup.py): started\n",
      "  Building wheel for rake-nltk (setup.py): finished with status 'done'\n",
      "  Created wheel for rake-nltk: filename=rake_nltk-1.0.4-py2.py3-none-any.whl size=7010 sha256=69d729118aa218686c0cc2a0d884260a7772e64e169c106e94366b1d3c8c2cbf\n",
      "  Stored in directory: C:\\Users\\huzef\\AppData\\Local\\pip\\Cache\\wheels\\ef\\92\\fc\\271b3709e71a96ffe934b27818946b795ac6b9b8ff8682483f\n",
      "Successfully built rake-nltk\n",
      "Installing collected packages: rake-nltk\n",
      "Successfully installed rake-nltk-1.0.4\n"
     ]
    }
   ],
   "source": [
    "!pip install rake_nltk"
   ]
  },
  {
   "cell_type": "code",
   "execution_count": 14,
   "metadata": {},
   "outputs": [],
   "source": [
    "from rake_nltk import Rake"
   ]
  },
  {
   "cell_type": "code",
   "execution_count": 83,
   "metadata": {},
   "outputs": [],
   "source": [
    "# TEST W/  &  W/O  YEAR ---- Taking the decades of the year ____________try this\n",
    "# TEST  COMBINING PEOPLE+PLOT AND GENRE   &&&   KEEPING THEM APART\n",
    "\n",
    "\n",
    "\n",
    "# 1. W/ YEAR  &   COMBINED\n",
    "rake = Rake()\n",
    "ans = []\n",
    "for row in df.itertuples():\n",
    "    rake.extract_keywords_from_text(row.Plot)\n",
    "    genre = [''.join(d.lower().split(' ')) for d in row.Genre.split(',')]\n",
    "    directors = [''.join(d.lower().split(' ')) for d in row.Director.split(',')]\n",
    "    actors = [''.join(d.lower().split(' ')) for d in row.Actors.split(',')]\n",
    "    ans.append(str(row.Year)[2] +' '+ ' '.join(list(rake.frequency_dist) + genre + directors + actors) )\n",
    "df['tokens'] = pd.Series(ans)"
   ]
  },
  {
   "cell_type": "code",
   "execution_count": 88,
   "metadata": {},
   "outputs": [
    {
     "data": {
      "text/plain": [
       "'5 stand union longshoreman prize ex corrupt fighter turned bosses struggles crime drama thriller eliakazan marlonbrando karlmalden leej.cobb rodsteiger'"
      ]
     },
     "execution_count": 88,
     "metadata": {},
     "output_type": "execute_result"
    }
   ],
   "source": [
    "df.tokens[100]"
   ]
  },
  {
   "cell_type": "code",
   "execution_count": 93,
   "metadata": {},
   "outputs": [
    {
     "data": {
      "text/plain": [
       "array([[1.        , 0.14638501, 0.1315587 , ..., 0.05      , 0.05      ,\n",
       "        0.05270463],\n",
       "       [0.14638501, 1.        , 0.34236839, ..., 0.048795  , 0.048795  ,\n",
       "        0.05143445],\n",
       "       [0.1315587 , 0.34236839, 1.        , ..., 0.0438529 , 0.0438529 ,\n",
       "        0.04622502],\n",
       "       ...,\n",
       "       [0.05      , 0.048795  , 0.0438529 , ..., 1.        , 0.05      ,\n",
       "        0.05270463],\n",
       "       [0.05      , 0.048795  , 0.0438529 , ..., 0.05      , 1.        ,\n",
       "        0.05270463],\n",
       "       [0.05270463, 0.05143445, 0.04622502, ..., 0.05270463, 0.05270463,\n",
       "        1.        ]])"
      ]
     },
     "execution_count": 93,
     "metadata": {},
     "output_type": "execute_result"
    }
   ],
   "source": [
    "count = CountVectorizer()\n",
    "count_matrix = count.fit_transform(df['tokens'])\n",
    "\n",
    "cos_similarity = cosine_similarity(count_matrix, count_matrix)\n",
    "\n",
    "cos_similarity"
   ]
  },
  {
   "cell_type": "code",
   "execution_count": 125,
   "metadata": {},
   "outputs": [],
   "source": [
    "def get_10_similar_movies_for(movie, sim=cos_similarity):\n",
    "    titles = df.Title\n",
    "    for title in titles:\n",
    "        if title == movie:\n",
    "            break\n",
    "    else:\n",
    "        return 'Incorrect movie title or Movie not in data!'\n",
    "    indices = sorted(enumerate(cos_similarity[titles[titles==movie].index[0]]), key=lambda x:x[1], reverse=True)[1:11]\n",
    "    return [titles[i[0]] for i in indices]"
   ]
  },
  {
   "cell_type": "code",
   "execution_count": 104,
   "metadata": {
    "scrolled": true
   },
   "outputs": [
    {
     "name": "stdout",
     "output_type": "stream",
     "text": [
      "Yes\n"
     ]
    }
   ],
   "source": [
    "for title in df.Title:\n",
    "    if title == 'Batman Begins':\n",
    "        print('Yes')"
   ]
  },
  {
   "cell_type": "code",
   "execution_count": 126,
   "metadata": {},
   "outputs": [
    {
     "data": {
      "text/plain": [
       "['The Dark Knight',\n",
       " 'The Dark Knight Rises',\n",
       " 'Spider-Man: Homecoming',\n",
       " 'Star Wars: Episode V - The Empire Strikes Back',\n",
       " 'The Prestige',\n",
       " 'Guardians of the Galaxy Vol. 2',\n",
       " 'Baby Driver',\n",
       " 'Sin City',\n",
       " 'Inception',\n",
       " 'Song of the Sea']"
      ]
     },
     "execution_count": 126,
     "metadata": {},
     "output_type": "execute_result"
    }
   ],
   "source": [
    "my_fav_movie = 'Batman Begins'\n",
    "\n",
    "get_10_similar_movies_for(my_fav_movie)"
   ]
  },
  {
   "cell_type": "code",
   "execution_count": 127,
   "metadata": {},
   "outputs": [
    {
     "data": {
      "text/plain": [
       "'Incorrect movie title or Movie not in data!'"
      ]
     },
     "execution_count": 127,
     "metadata": {},
     "output_type": "execute_result"
    }
   ],
   "source": [
    "get_10_similar_movies_for('Tawshank Redemption')"
   ]
  },
  {
   "cell_type": "code",
   "execution_count": 128,
   "metadata": {},
   "outputs": [
    {
     "data": {
      "text/plain": [
       "['Pulp Fiction',\n",
       " 'Rope',\n",
       " 'Se7en',\n",
       " 'Goodfellas',\n",
       " 'Butch Cassidy and the Sundance Kid',\n",
       " 'The Godfather',\n",
       " 'Papillon',\n",
       " 'The Green Mile',\n",
       " 'Casino',\n",
       " 'The Godfather: Part II']"
      ]
     },
     "execution_count": 128,
     "metadata": {},
     "output_type": "execute_result"
    }
   ],
   "source": [
    "get_10_similar_movies_for('The Shawshank Redemption')"
   ]
  },
  {
   "cell_type": "code",
   "execution_count": 129,
   "metadata": {},
   "outputs": [
    {
     "data": {
      "text/plain": [
       "['Batman Begins',\n",
       " 'The Dark Knight Rises',\n",
       " 'The Prestige',\n",
       " 'The Green Mile',\n",
       " 'Out of the Past',\n",
       " 'Witness for the Prosecution',\n",
       " 'Rush',\n",
       " 'The Godfather',\n",
       " 'Reservoir Dogs',\n",
       " 'V for Vendetta']"
      ]
     },
     "execution_count": 129,
     "metadata": {},
     "output_type": "execute_result"
    }
   ],
   "source": [
    "get_10_similar_movies_for('The Dark Knight')"
   ]
  },
  {
   "cell_type": "markdown",
   "metadata": {},
   "source": []
  },
  {
   "cell_type": "markdown",
   "metadata": {},
   "source": []
  },
  {
   "cell_type": "markdown",
   "metadata": {},
   "source": []
  },
  {
   "cell_type": "markdown",
   "metadata": {},
   "source": []
  },
  {
   "cell_type": "markdown",
   "metadata": {},
   "source": []
  },
  {
   "cell_type": "code",
   "execution_count": 130,
   "metadata": {},
   "outputs": [],
   "source": [
    "# TEST W/  &  W/O  YEAR ---- Taking the decades of the year ____________try this\n",
    "# TEST  COMBINING PEOPLE+PLOT AND GENRE   &&&   KEEPING THEM APART\n",
    "\n",
    "\n",
    "\n",
    "# 2. W/O YEAR  &   COMBINED\n",
    "rake = Rake()\n",
    "ans = []\n",
    "for row in df.itertuples():\n",
    "    rake.extract_keywords_from_text(row.Plot)\n",
    "    genre = [''.join(d.lower().split(' ')) for d in row.Genre.split(',')]\n",
    "    directors = [''.join(d.lower().split(' ')) for d in row.Director.split(',')]\n",
    "    actors = [''.join(d.lower().split(' ')) for d in row.Actors.split(',')]\n",
    "    ans.append(' '.join(list(rake.frequency_dist) + genre + directors + actors) )\n",
    "df['tokens'] = pd.Series(ans)"
   ]
  },
  {
   "cell_type": "code",
   "execution_count": 132,
   "metadata": {},
   "outputs": [
    {
     "data": {
      "text/plain": [
       "'stand union longshoreman prize ex corrupt fighter turned bosses struggles crime drama thriller eliakazan marlonbrando karlmalden leej.cobb rodsteiger'"
      ]
     },
     "execution_count": 132,
     "metadata": {},
     "output_type": "execute_result"
    }
   ],
   "source": [
    "df['tokens'][100]"
   ]
  },
  {
   "cell_type": "code",
   "execution_count": 131,
   "metadata": {},
   "outputs": [
    {
     "data": {
      "text/plain": [
       "array([[1.        , 0.14638501, 0.1315587 , ..., 0.05      , 0.05      ,\n",
       "        0.05270463],\n",
       "       [0.14638501, 1.        , 0.34236839, ..., 0.048795  , 0.048795  ,\n",
       "        0.05143445],\n",
       "       [0.1315587 , 0.34236839, 1.        , ..., 0.0438529 , 0.0438529 ,\n",
       "        0.04622502],\n",
       "       ...,\n",
       "       [0.05      , 0.048795  , 0.0438529 , ..., 1.        , 0.05      ,\n",
       "        0.05270463],\n",
       "       [0.05      , 0.048795  , 0.0438529 , ..., 0.05      , 1.        ,\n",
       "        0.05270463],\n",
       "       [0.05270463, 0.05143445, 0.04622502, ..., 0.05270463, 0.05270463,\n",
       "        1.        ]])"
      ]
     },
     "execution_count": 131,
     "metadata": {},
     "output_type": "execute_result"
    }
   ],
   "source": [
    "count = CountVectorizer()\n",
    "count_matrix = count.fit_transform(df['tokens'])\n",
    "\n",
    "cos_similarity = cosine_similarity(count_matrix, count_matrix)\n",
    "\n",
    "cos_similarity"
   ]
  },
  {
   "cell_type": "code",
   "execution_count": 133,
   "metadata": {},
   "outputs": [
    {
     "data": {
      "text/plain": [
       "['The Dark Knight',\n",
       " 'The Dark Knight Rises',\n",
       " 'Spider-Man: Homecoming',\n",
       " 'Star Wars: Episode V - The Empire Strikes Back',\n",
       " 'The Prestige',\n",
       " 'Guardians of the Galaxy Vol. 2',\n",
       " 'Baby Driver',\n",
       " 'Sin City',\n",
       " 'Inception',\n",
       " 'Song of the Sea']"
      ]
     },
     "execution_count": 133,
     "metadata": {},
     "output_type": "execute_result"
    }
   ],
   "source": [
    "my_fav_movie = 'Batman Begins'\n",
    "\n",
    "get_10_similar_movies_for(my_fav_movie)"
   ]
  },
  {
   "cell_type": "code",
   "execution_count": 127,
   "metadata": {},
   "outputs": [
    {
     "data": {
      "text/plain": [
       "'Incorrect movie title or Movie not in data!'"
      ]
     },
     "execution_count": 127,
     "metadata": {},
     "output_type": "execute_result"
    }
   ],
   "source": [
    "get_10_similar_movies_for('Tawshank Redemption')"
   ]
  },
  {
   "cell_type": "code",
   "execution_count": 134,
   "metadata": {},
   "outputs": [
    {
     "data": {
      "text/plain": [
       "['Pulp Fiction',\n",
       " 'Rope',\n",
       " 'Se7en',\n",
       " 'Goodfellas',\n",
       " 'Butch Cassidy and the Sundance Kid',\n",
       " 'The Godfather',\n",
       " 'Papillon',\n",
       " 'The Green Mile',\n",
       " 'Casino',\n",
       " 'The Godfather: Part II']"
      ]
     },
     "execution_count": 134,
     "metadata": {},
     "output_type": "execute_result"
    }
   ],
   "source": [
    "get_10_similar_movies_for('The Shawshank Redemption')"
   ]
  },
  {
   "cell_type": "code",
   "execution_count": 135,
   "metadata": {},
   "outputs": [
    {
     "data": {
      "text/plain": [
       "['Batman Begins',\n",
       " 'The Dark Knight Rises',\n",
       " 'The Prestige',\n",
       " 'The Green Mile',\n",
       " 'Out of the Past',\n",
       " 'Witness for the Prosecution',\n",
       " 'Rush',\n",
       " 'The Godfather',\n",
       " 'Reservoir Dogs',\n",
       " 'V for Vendetta']"
      ]
     },
     "execution_count": 135,
     "metadata": {},
     "output_type": "execute_result"
    }
   ],
   "source": [
    "get_10_similar_movies_for('The Dark Knight')"
   ]
  },
  {
   "cell_type": "markdown",
   "metadata": {},
   "source": [
    "## So the presence of the decade number isn't affecting the reccomendation, atleast not visibly"
   ]
  },
  {
   "cell_type": "markdown",
   "metadata": {},
   "source": []
  },
  {
   "cell_type": "markdown",
   "metadata": {},
   "source": []
  },
  {
   "cell_type": "markdown",
   "metadata": {},
   "source": []
  },
  {
   "cell_type": "markdown",
   "metadata": {},
   "source": []
  },
  {
   "cell_type": "code",
   "execution_count": 136,
   "metadata": {},
   "outputs": [],
   "source": [
    "# 3. WORKING SOLELY ON GENRE+PLOT\n",
    "\n",
    "\n",
    "rake = Rake()\n",
    "ans = []\n",
    "for row in df.itertuples():\n",
    "    rake.extract_keywords_from_text(row.Plot)\n",
    "    genre = [''.join(d.lower().split(' ')) for d in row.Genre.split(',')]\n",
    "    ans.append(' '.join(list(rake.frequency_dist) + genre) )\n",
    "df['tokens'] = pd.Series(ans)"
   ]
  },
  {
   "cell_type": "code",
   "execution_count": 137,
   "metadata": {},
   "outputs": [
    {
     "data": {
      "text/plain": [
       "array([[1.        , 0.2       , 0.16903085, ..., 0.06666667, 0.06900656,\n",
       "        0.0745356 ],\n",
       "       [0.2       , 1.        , 0.3380617 , ..., 0.06666667, 0.06900656,\n",
       "        0.0745356 ],\n",
       "       [0.16903085, 0.3380617 , 1.        , ..., 0.05634362, 0.05832118,\n",
       "        0.06299408],\n",
       "       ...,\n",
       "       [0.06666667, 0.06666667, 0.05634362, ..., 1.        , 0.06900656,\n",
       "        0.0745356 ],\n",
       "       [0.06900656, 0.06900656, 0.05832118, ..., 0.06900656, 1.        ,\n",
       "        0.07715167],\n",
       "       [0.0745356 , 0.0745356 , 0.06299408, ..., 0.0745356 , 0.07715167,\n",
       "        1.        ]])"
      ]
     },
     "execution_count": 137,
     "metadata": {},
     "output_type": "execute_result"
    }
   ],
   "source": [
    "count = CountVectorizer()\n",
    "count_matrix = count.fit_transform(df['tokens'])\n",
    "\n",
    "cos_similarity = cosine_similarity(count_matrix, count_matrix)\n",
    "\n",
    "cos_similarity"
   ]
  },
  {
   "cell_type": "code",
   "execution_count": 142,
   "metadata": {},
   "outputs": [
    {
     "data": {
      "text/plain": [
       "['Spider-Man: Homecoming',\n",
       " 'The Dark Knight',\n",
       " 'Star Wars: Episode V - The Empire Strikes Back',\n",
       " 'Guardians of the Galaxy Vol. 2',\n",
       " 'Sin City',\n",
       " 'Baby Driver',\n",
       " 'Song of the Sea',\n",
       " 'The Wolf of Wall Street',\n",
       " 'The Dark Knight Rises',\n",
       " 'Out of the Past']"
      ]
     },
     "execution_count": 142,
     "metadata": {},
     "output_type": "execute_result"
    }
   ],
   "source": [
    "my_fav_movie = 'Batman Begins'\n",
    "\n",
    "get_10_similar_movies_for(my_fav_movie)"
   ]
  },
  {
   "cell_type": "code",
   "execution_count": 144,
   "metadata": {},
   "outputs": [
    {
     "data": {
      "text/plain": [
       "['Pulp Fiction',\n",
       " 'Rope',\n",
       " 'Butch Cassidy and the Sundance Kid',\n",
       " 'Goodfellas',\n",
       " 'The Godfather',\n",
       " 'Se7en',\n",
       " 'Papillon',\n",
       " 'Cool Hand Luke',\n",
       " 'Casino',\n",
       " 'No Country for Old Men']"
      ]
     },
     "execution_count": 144,
     "metadata": {},
     "output_type": "execute_result"
    }
   ],
   "source": [
    "get_10_similar_movies_for('The Shawshank Redemption')"
   ]
  },
  {
   "cell_type": "code",
   "execution_count": 145,
   "metadata": {},
   "outputs": [
    {
     "data": {
      "text/plain": [
       "['The Dark Knight Rises',\n",
       " 'Batman Begins',\n",
       " 'The Green Mile',\n",
       " 'Witness for the Prosecution',\n",
       " 'Rush',\n",
       " 'Out of the Past',\n",
       " 'The Godfather',\n",
       " 'Reservoir Dogs',\n",
       " 'V for Vendetta',\n",
       " 'The Silence of the Lambs']"
      ]
     },
     "execution_count": 145,
     "metadata": {},
     "output_type": "execute_result"
    }
   ],
   "source": [
    "get_10_similar_movies_for('The Dark Knight')"
   ]
  },
  {
   "cell_type": "markdown",
   "metadata": {},
   "source": [
    "## so we can see that we are getting movies similar to the genre and plot\n",
    "## while there is no metric right now (except our intuition and movie-knowledge), we cant say whether adding the actors and directors is a better option or not."
   ]
  }
 ],
 "metadata": {
  "kernelspec": {
   "display_name": "Python 3",
   "language": "python",
   "name": "python3"
  },
  "language_info": {
   "codemirror_mode": {
    "name": "ipython",
    "version": 3
   },
   "file_extension": ".py",
   "mimetype": "text/x-python",
   "name": "python",
   "nbconvert_exporter": "python",
   "pygments_lexer": "ipython3",
   "version": "3.5.5"
  }
 },
 "nbformat": 4,
 "nbformat_minor": 2
}
